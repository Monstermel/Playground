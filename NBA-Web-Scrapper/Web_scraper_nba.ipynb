{
  "nbformat": 4,
  "nbformat_minor": 0,
  "metadata": {
    "colab": {
      "provenance": [],
      "mount_file_id": "1-vviQKG--bd76jxBTXTt-iEZpeXufI_d",
      "authorship_tag": "ABX9TyPuLRMLsK1yJoSiailRk0v0",
      "include_colab_link": true
    },
    "kernelspec": {
      "name": "python3",
      "display_name": "Python 3"
    },
    "language_info": {
      "name": "python"
    }
  },
  "cells": [
    {
      "cell_type": "markdown",
      "metadata": {
        "id": "view-in-github",
        "colab_type": "text"
      },
      "source": [
        "<a href=\"https://colab.research.google.com/github/Monstermel/NBA-Web-Scrapper/blob/main/Web_scraper_nba.ipynb\" target=\"_parent\"><img src=\"https://colab.research.google.com/assets/colab-badge.svg\" alt=\"Open In Colab\"/></a>"
      ]
    },
    {
      "cell_type": "markdown",
      "source": [
        "#Selenium installation\n",
        "\n"
      ],
      "metadata": {
        "id": "t0LTMU48nx22"
      }
    },
    {
      "cell_type": "code",
      "source": [
        "!apt-get update\n",
        "!pip3 install selenium"
      ],
      "metadata": {
        "id": "l2XUf3qAWalj"
      },
      "execution_count": null,
      "outputs": []
    },
    {
      "cell_type": "markdown",
      "source": [
        "#Importing libraries"
      ],
      "metadata": {
        "id": "At4bmeMFoWIX"
      }
    },
    {
      "cell_type": "code",
      "execution_count": 3,
      "metadata": {
        "id": "ZJSocI-mufpo"
      },
      "outputs": [],
      "source": [
        "import os\n",
        "import csv\n",
        "import json\n",
        "import time\n",
        "import requests\n",
        "\n",
        "from itertools import islice\n",
        "from bs4 import BeautifulSoup\n",
        "from selenium import webdriver\n",
        "from selenium.webdriver.common.by import By\n",
        "from selenium.webdriver.chrome.options import Options"
      ]
    },
    {
      "cell_type": "markdown",
      "source": [
        "#Url, Payload and Headers"
      ],
      "metadata": {
        "id": "XzwD1_M6tiBS"
      }
    },
    {
      "cell_type": "code",
      "source": [
        "playergamelogs = 'https://stats.nba.com/stats/playergamelogs'"
      ],
      "metadata": {
        "id": "jLl2myquu7h5"
      },
      "execution_count": 4,
      "outputs": []
    },
    {
      "cell_type": "code",
      "source": [
        "payload =  {\n",
        "    'DateFrom': '',\n",
        "    'DateTo': '',\n",
        "    'GameSegment': '',\n",
        "    'LastNGames': '0',\n",
        "    'LeagueID': '00',\n",
        "    'Location': '',\n",
        "    'MeasureType': 'Base',\n",
        "    'Month': '0',\n",
        "    'OppTeamID': '0',\n",
        "    'OpponentTeamID': '0',\n",
        "    'Outcome': '',\n",
        "    'PORound': '0',\n",
        "    'PaceAdjust': 'N',\n",
        "    'PerMode': 'Totals',\n",
        "    'Period': '0',\n",
        "    'PlayerID': '',\n",
        "    'PlusMinus': 'N',\n",
        "    'Rank': 'N',\n",
        "    'Season': '',\n",
        "    'SeasonSegment': '',\n",
        "    'SeasonType': 'Regular Season',\n",
        "    'ShotClockRange': '',\n",
        "    'TeamID': '',\n",
        "    'VsConference': '',\n",
        "    'VsDivision': ''\n",
        "}"
      ],
      "metadata": {
        "id": "wKDH_nwF5GK6"
      },
      "execution_count": 5,
      "outputs": []
    },
    {
      "cell_type": "code",
      "source": [
        "headers = {\n",
        "    'Accept':'*/*',\n",
        "    'Accept-Encoding':'gzip, deflate, br',\n",
        "    'Accept-Language':'en-US,en;q=0.9,es-MX;q=0.8,es;q=0.7',\n",
        "    'Connection':'keep-alive',\n",
        "    'Dnt':'1',\n",
        "    'Host':'stats.nba.com',\n",
        "    'Origin':'https://www.nba.com',\n",
        "    'Referer':'https://www.nba.com/',\n",
        "    'Sec-Ch-Ua':'\"Not_A Brand\";v=\"8\", \"Chromium\";v=\"120\", \"Google Chrome\";v=\"120\"',\n",
        "    'Sec-Ch-Ua-Mobile':'?0',\n",
        "    'Sec-Ch-Ua-Platform':'\"Windows\"',\n",
        "    'Sec-Fetch-Dest':'empty',\n",
        "    'Sec-Fetch-Mode':'cors',\n",
        "    'Sec-Fetch-Site':'same-site',\n",
        "    'User-Agent':'Mozilla/5.0 (Windows NT 10.0; Win64; x64) AppleWebKit/537.36 (KHTML, like Gecko) Chrome/120.0.0.0 Safari/537.36'\n",
        "}"
      ],
      "metadata": {
        "id": "K4QsbzuxvF41"
      },
      "execution_count": 6,
      "outputs": []
    },
    {
      "cell_type": "markdown",
      "source": [
        "#Script"
      ],
      "metadata": {
        "id": "mthkarAJtqZQ"
      }
    },
    {
      "cell_type": "code",
      "source": [
        "def get_player_ids():\n",
        "    url = 'https://www.nba.com/players'\n",
        "\n",
        "    options = Options()\n",
        "    options.add_argument(\"--headless\")\n",
        "    options.add_argument(\"--no-sandbox\")\n",
        "    options.add_argument('--disable-dev-shm-usage')\n",
        "    driver = webdriver.Chrome(options=options)\n",
        "    driver.get(url)\n",
        "\n",
        "    element = driver.find_element(By.XPATH, '//select[@title=\"Page Number Selection Drown Down List\"]')\n",
        "    driver.execute_script('arguments[0].selectedIndex = 0', element)\n",
        "    driver.execute_script('arguments[0].dispatchEvent(new Event(\"change\", {\"bubbles\": true}));', element)\n",
        "\n",
        "    soup = BeautifulSoup(driver.page_source, \"html.parser\")\n",
        "    links = soup.select('.RosterRow_playerLink__qw1vG')\n",
        "\n",
        "    ids = []\n",
        "    for link in links:\n",
        "        ids.append(link.get('href').split('/')[2])\n",
        "\n",
        "    driver.quit()\n",
        "    return ids"
      ],
      "metadata": {
        "id": "it61mSlaPmFe"
      },
      "execution_count": 7,
      "outputs": []
    },
    {
      "cell_type": "code",
      "source": [
        "def get_seasons_by_player(id: int):\n",
        "    url = f'https://www.nba.com/stats/player/{id}/boxscores-traditional'\n",
        "\n",
        "    while True:\n",
        "        response = requests.get(url)\n",
        "        soup = BeautifulSoup(response.content, \"html.parser\")\n",
        "        selector = soup.select_one('.DropDown_select__4pIg9')\n",
        "        seasons = []\n",
        "        try:\n",
        "            for option in selector.select(\"option\"):\n",
        "                seasons.append(option.text)\n",
        "            break\n",
        "        except:\n",
        "            print(\"[Error processing seasons]...\", end='')\n",
        "\n",
        "    return seasons"
      ],
      "metadata": {
        "id": "z7h27_HgXMlo"
      },
      "execution_count": 8,
      "outputs": []
    },
    {
      "cell_type": "code",
      "source": [
        "def get_data(start=None, end=None, wait_player=3, wait_season=1):\n",
        "    if not os.path.exists('data/'):\n",
        "        os.makedirs('data/')\n",
        "\n",
        "    print(\"Getting players ids.........................................\", end='')\n",
        "    player_lst = get_player_ids()\n",
        "    print(\"done\")\n",
        "\n",
        "    total_players = len(player_lst)\n",
        "    for idx, player in islice(enumerate(player_lst), start, end):\n",
        "        print(f'Processing player {idx+1}/{total_players}.....................................', end='')\n",
        "        payload_aux = payload\n",
        "        payload_aux['PlayerID'] = str(player)\n",
        "\n",
        "        seasons = get_seasons_by_player(player)\n",
        "        time.sleep(wait_season)\n",
        "\n",
        "        for season in seasons:\n",
        "            payload_aux['Season'] = str(season)\n",
        "            response = requests.get(playergamelogs, headers = headers, params = payload_aux, timeout = 30)\n",
        "            time.sleep(wait_season)\n",
        "\n",
        "            if response.status_code == 200:\n",
        "                data = response.json()\n",
        "            else:\n",
        "                print('[Error: ' + str(response.status_code) + ']...', end='')\n",
        "                continue\n",
        "\n",
        "            if not os.path.exists(f'data/{player}/'):\n",
        "                os.makedirs(f'data/{player}/')\n",
        "\n",
        "            with open(f'data/{player}/{player}_{season}.csv', 'w', newline='') as csv_file:\n",
        "                writer = csv.writer(csv_file)\n",
        "                writer.writerow(data['resultSets'][0]['headers'])\n",
        "\n",
        "                for row in data['resultSets'][0]['rowSet']:\n",
        "                    writer.writerow(row)\n",
        "\n",
        "        time.sleep(wait_player)\n",
        "        print('done')"
      ],
      "metadata": {
        "id": "_-lTEGGta8bj"
      },
      "execution_count": 9,
      "outputs": []
    },
    {
      "cell_type": "code",
      "source": [
        "get_data(0, 10, 1, 1)"
      ],
      "metadata": {
        "id": "Dh3_nh1hhrWL"
      },
      "execution_count": null,
      "outputs": []
    },
    {
      "cell_type": "code",
      "source": [
        "!find data/ -type d | tail -n +2 | wc -l"
      ],
      "metadata": {
        "id": "XftNz4LvOK7f"
      },
      "execution_count": null,
      "outputs": []
    },
    {
      "cell_type": "code",
      "source": [
        "!cp -r data /content/drive/MyDrive/data"
      ],
      "metadata": {
        "id": "Ylmsm-3zOkXE"
      },
      "execution_count": 13,
      "outputs": []
    },
    {
      "cell_type": "markdown",
      "source": [
        "#Merging the data"
      ],
      "metadata": {
        "id": "1is3Cqek8-kz"
      }
    },
    {
      "cell_type": "code",
      "source": [
        "%%shell\n",
        "find data/ -type f | sort -V > dirs.txt\n",
        "\n",
        "head -1 $(head -1 dirs.txt) > \"player_stats.csv\"\n",
        "\n",
        "for file in $(cat dirs.txt); do\n",
        "    tail -n +2 \"$file\" >> \"player_stats.csv\";\n",
        "done"
      ],
      "metadata": {
        "id": "eZXHscAyhaeC"
      },
      "execution_count": null,
      "outputs": []
    },
    {
      "cell_type": "code",
      "source": [
        "!cp player_stats.csv drive/MyDrive/data/"
      ],
      "metadata": {
        "id": "jF-ngOjxqgSH"
      },
      "execution_count": 15,
      "outputs": []
    }
  ]
}